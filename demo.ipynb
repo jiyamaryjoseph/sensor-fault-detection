{
 "cells": [
  {
   "cell_type": "code",
   "execution_count": 17,
   "metadata": {},
   "outputs": [],
   "source": [
    "import pandas as pd"
   ]
  },
  {
   "cell_type": "code",
   "execution_count": 18,
   "metadata": {},
   "outputs": [],
   "source": [
    "df = pd.DataFrame([[1,2],[1,2]])"
   ]
  },
  {
   "cell_type": "code",
   "execution_count": 19,
   "metadata": {},
   "outputs": [],
   "source": [
    "from datetime import datetime"
   ]
  },
  {
   "cell_type": "code",
   "execution_count": 20,
   "metadata": {},
   "outputs": [
    {
     "data": {
      "text/plain": [
       "1670471370"
      ]
     },
     "execution_count": 20,
     "metadata": {},
     "output_type": "execute_result"
    }
   ],
   "source": [
    "round(datetime.now().timestamp())"
   ]
  },
  {
   "cell_type": "code",
   "execution_count": 21,
   "metadata": {},
   "outputs": [
    {
     "data": {
      "text/html": [
       "<div>\n",
       "<style scoped>\n",
       "    .dataframe tbody tr th:only-of-type {\n",
       "        vertical-align: middle;\n",
       "    }\n",
       "\n",
       "    .dataframe tbody tr th {\n",
       "        vertical-align: top;\n",
       "    }\n",
       "\n",
       "    .dataframe thead th {\n",
       "        text-align: right;\n",
       "    }\n",
       "</style>\n",
       "<table border=\"1\" class=\"dataframe\">\n",
       "  <thead>\n",
       "    <tr style=\"text-align: right;\">\n",
       "      <th></th>\n",
       "      <th>0</th>\n",
       "      <th>1</th>\n",
       "    </tr>\n",
       "  </thead>\n",
       "  <tbody>\n",
       "    <tr>\n",
       "      <th>0</th>\n",
       "      <td>1</td>\n",
       "      <td>2</td>\n",
       "    </tr>\n",
       "    <tr>\n",
       "      <th>1</th>\n",
       "      <td>1</td>\n",
       "      <td>2</td>\n",
       "    </tr>\n",
       "  </tbody>\n",
       "</table>\n",
       "</div>"
      ],
      "text/plain": [
       "   0  1\n",
       "0  1  2\n",
       "1  1  2"
      ]
     },
     "execution_count": 21,
     "metadata": {},
     "output_type": "execute_result"
    }
   ],
   "source": [
    "df"
   ]
  },
  {
   "cell_type": "code",
   "execution_count": 22,
   "metadata": {},
   "outputs": [
    {
     "data": {
      "text/html": [
       "<div>\n",
       "<style scoped>\n",
       "    .dataframe tbody tr th:only-of-type {\n",
       "        vertical-align: middle;\n",
       "    }\n",
       "\n",
       "    .dataframe tbody tr th {\n",
       "        vertical-align: top;\n",
       "    }\n",
       "\n",
       "    .dataframe thead th {\n",
       "        text-align: right;\n",
       "    }\n",
       "</style>\n",
       "<table border=\"1\" class=\"dataframe\">\n",
       "  <thead>\n",
       "    <tr style=\"text-align: right;\">\n",
       "      <th></th>\n",
       "      <th>0</th>\n",
       "      <th>1</th>\n",
       "    </tr>\n",
       "  </thead>\n",
       "  <tbody>\n",
       "    <tr>\n",
       "      <th>0</th>\n",
       "      <td>1</td>\n",
       "      <td>2</td>\n",
       "    </tr>\n",
       "    <tr>\n",
       "      <th>1</th>\n",
       "      <td>1</td>\n",
       "      <td>2</td>\n",
       "    </tr>\n",
       "    <tr>\n",
       "      <th>0</th>\n",
       "      <td>1</td>\n",
       "      <td>2</td>\n",
       "    </tr>\n",
       "    <tr>\n",
       "      <th>1</th>\n",
       "      <td>1</td>\n",
       "      <td>2</td>\n",
       "    </tr>\n",
       "  </tbody>\n",
       "</table>\n",
       "</div>"
      ],
      "text/plain": [
       "   0  1\n",
       "0  1  2\n",
       "1  1  2\n",
       "0  1  2\n",
       "1  1  2"
      ]
     },
     "execution_count": 22,
     "metadata": {},
     "output_type": "execute_result"
    }
   ],
   "source": [
    "pd.concat([df,df])"
   ]
  },
  {
   "cell_type": "code",
   "execution_count": 23,
   "metadata": {},
   "outputs": [],
   "source": [
    "from sensor.utils.main_utils import read_yaml_file"
   ]
  },
  {
   "cell_type": "code",
   "execution_count": 24,
   "metadata": {},
   "outputs": [],
   "source": [
    "file_path=\"F:/industry_ready_project1/sensor_fault_detection_mine/sensor-fault-detection/config/schema.yaml\""
   ]
  },
  {
   "cell_type": "code",
   "execution_count": 25,
   "metadata": {},
   "outputs": [],
   "source": [
    "schema_config = read_yaml_file(file_path=file_path)"
   ]
  },
  {
   "cell_type": "code",
   "execution_count": 26,
   "metadata": {},
   "outputs": [
    {
     "data": {
      "text/plain": [
       "False"
      ]
     },
     "execution_count": 26,
     "metadata": {},
     "output_type": "execute_result"
    }
   ],
   "source": [
    "len(schema_config['columns'])==len(df.columns)"
   ]
  },
  {
   "cell_type": "code",
   "execution_count": 27,
   "metadata": {},
   "outputs": [],
   "source": [
    "from scipy.stats import ks_2samp"
   ]
  },
  {
   "cell_type": "code",
   "execution_count": 28,
   "metadata": {},
   "outputs": [],
   "source": [
    "import numpy as np"
   ]
  },
  {
   "cell_type": "code",
   "execution_count": 29,
   "metadata": {},
   "outputs": [],
   "source": [
    "d1 = np.arange(100,200)\n",
    "d2 = np.arange(10)"
   ]
  },
  {
   "cell_type": "code",
   "execution_count": 30,
   "metadata": {},
   "outputs": [
    {
     "data": {
      "text/plain": [
       "array([100, 101, 102, 103, 104, 105, 106, 107, 108, 109, 110, 111, 112,\n",
       "       113, 114, 115, 116, 117, 118, 119, 120, 121, 122, 123, 124, 125,\n",
       "       126, 127, 128, 129, 130, 131, 132, 133, 134, 135, 136, 137, 138,\n",
       "       139, 140, 141, 142, 143, 144, 145, 146, 147, 148, 149, 150, 151,\n",
       "       152, 153, 154, 155, 156, 157, 158, 159, 160, 161, 162, 163, 164,\n",
       "       165, 166, 167, 168, 169, 170, 171, 172, 173, 174, 175, 176, 177,\n",
       "       178, 179, 180, 181, 182, 183, 184, 185, 186, 187, 188, 189, 190,\n",
       "       191, 192, 193, 194, 195, 196, 197, 198, 199])"
      ]
     },
     "execution_count": 30,
     "metadata": {},
     "output_type": "execute_result"
    }
   ],
   "source": [
    "d1"
   ]
  },
  {
   "cell_type": "code",
   "execution_count": 31,
   "metadata": {},
   "outputs": [
    {
     "data": {
      "text/plain": [
       "array([0, 1, 2, 3, 4, 5, 6, 7, 8, 9])"
      ]
     },
     "execution_count": 31,
     "metadata": {},
     "output_type": "execute_result"
    }
   ],
   "source": [
    "d2"
   ]
  },
  {
   "cell_type": "code",
   "execution_count": 32,
   "metadata": {},
   "outputs": [
    {
     "data": {
      "text/plain": [
       "array([100, 101, 102, 103, 104, 105, 106, 107, 108, 109, 110, 111, 112,\n",
       "       113, 114, 115, 116, 117, 118, 119, 120, 121, 122, 123, 124, 125,\n",
       "       126, 127, 128, 129, 130, 131, 132, 133, 134, 135, 136, 137, 138,\n",
       "       139, 140, 141, 142, 143, 144, 145, 146, 147, 148, 149, 150, 151,\n",
       "       152, 153, 154, 155, 156, 157, 158, 159, 160, 161, 162, 163, 164,\n",
       "       165, 166, 167, 168, 169, 170, 171, 172, 173, 174, 175, 176, 177,\n",
       "       178, 179, 180, 181, 182, 183, 184, 185, 186, 187, 188, 189, 190,\n",
       "       191, 192, 193, 194, 195, 196, 197, 198, 199])"
      ]
     },
     "execution_count": 32,
     "metadata": {},
     "output_type": "execute_result"
    }
   ],
   "source": [
    "d1"
   ]
  },
  {
   "cell_type": "code",
   "execution_count": 33,
   "metadata": {},
   "outputs": [
    {
     "data": {
      "text/plain": [
       "array([0, 1, 2, 3, 4, 5, 6, 7, 8, 9])"
      ]
     },
     "execution_count": 33,
     "metadata": {},
     "output_type": "execute_result"
    }
   ],
   "source": [
    "d2"
   ]
  },
  {
   "cell_type": "code",
   "execution_count": 34,
   "metadata": {},
   "outputs": [],
   "source": [
    "test = ks_2samp(d1,d2)"
   ]
  },
  {
   "cell_type": "code",
   "execution_count": 35,
   "metadata": {},
   "outputs": [
    {
     "data": {
      "text/plain": [
       "0"
      ]
     },
     "execution_count": 35,
     "metadata": {},
     "output_type": "execute_result"
    }
   ],
   "source": [
    "round(test.pvalue)"
   ]
  },
  {
   "cell_type": "code",
   "execution_count": 36,
   "metadata": {},
   "outputs": [],
   "source": [
    "traing_file_path = \"F:/industry_ready_project1/sensor_fault_detection_mine/sensor-fault-detection/artifact/12_08_2022_09_12_52/data_ingestion/ingested/train.csv\""
   ]
  },
  {
   "cell_type": "code",
   "execution_count": 37,
   "metadata": {},
   "outputs": [],
   "source": [
    "test_file_path = \"F:/industry_ready_project1/sensor_fault_detection_mine/sensor-fault-detection/artifact/12_08_2022_09_12_52/data_ingestion/ingested/test.csv\""
   ]
  },
  {
   "cell_type": "code",
   "execution_count": 38,
   "metadata": {},
   "outputs": [],
   "source": [
    "import pandas as pd"
   ]
  },
  {
   "cell_type": "code",
   "execution_count": 39,
   "metadata": {},
   "outputs": [],
   "source": [
    "train_df = pd.read_csv(traing_file_path)\n",
    "test_df = pd.read_csv(test_file_path)"
   ]
  },
  {
   "cell_type": "code",
   "execution_count": 40,
   "metadata": {},
   "outputs": [
    {
     "data": {
      "text/plain": [
       "Index(['class', 'aa_000', 'ab_000', 'ac_000', 'ad_000', 'ae_000', 'af_000',\n",
       "       'ag_000', 'ag_001', 'ag_002',\n",
       "       ...\n",
       "       'ee_002', 'ee_003', 'ee_004', 'ee_005', 'ee_006', 'ee_007', 'ee_008',\n",
       "       'ee_009', 'ef_000', 'eg_000'],\n",
       "      dtype='object', length=171)"
      ]
     },
     "execution_count": 40,
     "metadata": {},
     "output_type": "execute_result"
    }
   ],
   "source": [
    "train_df.columns"
   ]
  },
  {
   "cell_type": "code",
   "execution_count": 41,
   "metadata": {},
   "outputs": [
    {
     "data": {
      "text/plain": [
       "Index(['class', 'aa_000', 'ab_000', 'ac_000', 'ad_000', 'ae_000', 'af_000',\n",
       "       'ag_000', 'ag_001', 'ag_002',\n",
       "       ...\n",
       "       'ee_002', 'ee_003', 'ee_004', 'ee_005', 'ee_006', 'ee_007', 'ee_008',\n",
       "       'ee_009', 'ef_000', 'eg_000'],\n",
       "      dtype='object', length=171)"
      ]
     },
     "execution_count": 41,
     "metadata": {},
     "output_type": "execute_result"
    }
   ],
   "source": [
    "test_df.columns"
   ]
  },
  {
   "cell_type": "code",
   "execution_count": 42,
   "metadata": {},
   "outputs": [],
   "source": [
    "from sensor.utils.main_utils import write_yaml_file"
   ]
  },
  {
   "cell_type": "code",
   "execution_count": 43,
   "metadata": {},
   "outputs": [],
   "source": [
    "\n",
    "def get_drift_report(base_df,current_df,threshold=0.05):\n",
    "    report ={}\n",
    "    for column in base_df.columns:\n",
    "        d1 = base_df[column]\n",
    "        d2  = current_df[column]\n",
    "        is_same_dist = ks_2samp(d1,d2)\n",
    "        if threshold<=is_same_dist.pvalue:\n",
    "            is_found=False\n",
    "        else:\n",
    "            is_found = True \n",
    "        report.update({column:{\n",
    "            \"p_value\":float(is_same_dist.pvalue),\n",
    "            \"drift_status\":is_found\n",
    "            \n",
    "            }})\n",
    "    return report\n",
    "\n"
   ]
  },
  {
   "cell_type": "code",
   "execution_count": 44,
   "metadata": {},
   "outputs": [],
   "source": [
    "drift_report = get_drift_report(train_df,test_df)"
   ]
  },
  {
   "cell_type": "code",
   "execution_count": 45,
   "metadata": {},
   "outputs": [
    {
     "data": {
      "text/plain": [
       "{'class': {'p_value': 1.0, 'drift_status': False},\n",
       " 'aa_000': {'p_value': 0.0336121691109984, 'drift_status': True},\n",
       " 'ab_000': {'p_value': 0.8077738928808008, 'drift_status': False},\n",
       " 'ac_000': {'p_value': 0.22346374147882053, 'drift_status': False},\n",
       " 'ad_000': {'p_value': 0.40420469588802277, 'drift_status': False},\n",
       " 'ae_000': {'p_value': 0.9999999893421427, 'drift_status': False},\n",
       " 'af_000': {'p_value': 0.999999998337216, 'drift_status': False},\n",
       " 'ag_000': {'p_value': 1.0, 'drift_status': False},\n",
       " 'ag_001': {'p_value': 0.999999999999922, 'drift_status': False},\n",
       " 'ag_002': {'p_value': 0.9999999997996436, 'drift_status': False},\n",
       " 'ag_003': {'p_value': 0.12920906054192238, 'drift_status': False},\n",
       " 'ag_004': {'p_value': 0.0760864583952896, 'drift_status': False},\n",
       " 'ag_005': {'p_value': 0.08405417218830147, 'drift_status': False},\n",
       " 'ag_006': {'p_value': 0.3284187068653508, 'drift_status': False},\n",
       " 'ag_007': {'p_value': 0.2363287425080175, 'drift_status': False},\n",
       " 'ag_008': {'p_value': 0.214457569654112, 'drift_status': False},\n",
       " 'ag_009': {'p_value': 0.9178628569512786, 'drift_status': False},\n",
       " 'ah_000': {'p_value': 0.0997548006789779, 'drift_status': False},\n",
       " 'ai_000': {'p_value': 0.9923955784119606, 'drift_status': False},\n",
       " 'aj_000': {'p_value': 0.9998650233850704, 'drift_status': False},\n",
       " 'ak_000': {'p_value': 0.9999929248182435, 'drift_status': False},\n",
       " 'al_000': {'p_value': 0.1563201901944583, 'drift_status': False},\n",
       " 'am_0': {'p_value': 0.1946498859453758, 'drift_status': False},\n",
       " 'an_000': {'p_value': 0.07753139851866264, 'drift_status': False},\n",
       " 'ao_000': {'p_value': 0.0873798878522245, 'drift_status': False},\n",
       " 'ap_000': {'p_value': 0.034041256346973525, 'drift_status': True},\n",
       " 'aq_000': {'p_value': 0.09563520662580927, 'drift_status': False},\n",
       " 'ar_000': {'p_value': 0.9924017125642853, 'drift_status': False},\n",
       " 'as_000': {'p_value': 1.0, 'drift_status': False},\n",
       " 'at_000': {'p_value': 0.9961355141543821, 'drift_status': False},\n",
       " 'au_000': {'p_value': 1.0, 'drift_status': False},\n",
       " 'av_000': {'p_value': 0.013161051420425007, 'drift_status': True},\n",
       " 'ax_000': {'p_value': 0.05917869979533108, 'drift_status': False},\n",
       " 'ay_000': {'p_value': 0.9999999999999953, 'drift_status': False},\n",
       " 'ay_001': {'p_value': 0.9999739556321315, 'drift_status': False},\n",
       " 'ay_002': {'p_value': 0.9999890497956532, 'drift_status': False},\n",
       " 'ay_003': {'p_value': 0.9999945833172931, 'drift_status': False},\n",
       " 'ay_004': {'p_value': 0.9999999999837138, 'drift_status': False},\n",
       " 'ay_005': {'p_value': 0.21204004593256764, 'drift_status': False},\n",
       " 'ay_006': {'p_value': 0.4567299111378631, 'drift_status': False},\n",
       " 'ay_007': {'p_value': 0.022859372188423273, 'drift_status': True},\n",
       " 'ay_008': {'p_value': 0.02560266588797966, 'drift_status': True},\n",
       " 'ay_009': {'p_value': 1.0, 'drift_status': False},\n",
       " 'az_000': {'p_value': 0.2818576272419244, 'drift_status': False},\n",
       " 'az_001': {'p_value': 0.34793771816516583, 'drift_status': False},\n",
       " 'az_002': {'p_value': 0.25579147244217915, 'drift_status': False},\n",
       " 'az_003': {'p_value': 0.33222173832806035, 'drift_status': False},\n",
       " 'az_004': {'p_value': 0.4165186838741145, 'drift_status': False},\n",
       " 'az_005': {'p_value': 0.05083550649755897, 'drift_status': False},\n",
       " 'az_006': {'p_value': 0.5867834228056101, 'drift_status': False},\n",
       " 'az_007': {'p_value': 0.17004002950421515, 'drift_status': False},\n",
       " 'az_008': {'p_value': 0.7559645916768921, 'drift_status': False},\n",
       " 'az_009': {'p_value': 0.9999861437165827, 'drift_status': False},\n",
       " 'ba_000': {'p_value': 0.07966806739521437, 'drift_status': False},\n",
       " 'ba_001': {'p_value': 0.08895650751603401, 'drift_status': False},\n",
       " 'ba_002': {'p_value': 0.05148870466172073, 'drift_status': False},\n",
       " 'ba_003': {'p_value': 0.03678327563991912, 'drift_status': True},\n",
       " 'ba_004': {'p_value': 0.03962187468747891, 'drift_status': True},\n",
       " 'ba_005': {'p_value': 0.0641229563489143, 'drift_status': False},\n",
       " 'ba_006': {'p_value': 0.07560737584081012, 'drift_status': False},\n",
       " 'ba_007': {'p_value': 0.32604882808783875, 'drift_status': False},\n",
       " 'ba_008': {'p_value': 0.616577444608559, 'drift_status': False},\n",
       " 'ba_009': {'p_value': 0.45068688898186327, 'drift_status': False},\n",
       " 'bb_000': {'p_value': 0.08184371738409824, 'drift_status': False},\n",
       " 'bc_000': {'p_value': 0.3176804060343288, 'drift_status': False},\n",
       " 'bd_000': {'p_value': 0.03217282577737646, 'drift_status': True},\n",
       " 'be_000': {'p_value': 0.42367528603991367, 'drift_status': False},\n",
       " 'bf_000': {'p_value': 0.8489404444326031, 'drift_status': False},\n",
       " 'bg_000': {'p_value': 0.09596512536600477, 'drift_status': False},\n",
       " 'bh_000': {'p_value': 0.1360952956974325, 'drift_status': False},\n",
       " 'bi_000': {'p_value': 0.021423961412807675, 'drift_status': True},\n",
       " 'bj_000': {'p_value': 0.05265532689691621, 'drift_status': False},\n",
       " 'bk_000': {'p_value': 0.011523768979420078, 'drift_status': True},\n",
       " 'bl_000': {'p_value': 0.1300161634332846, 'drift_status': False},\n",
       " 'bm_000': {'p_value': 0.20407307080080517, 'drift_status': False},\n",
       " 'bn_000': {'p_value': 0.3380618269231591, 'drift_status': False},\n",
       " 'bo_000': {'p_value': 0.677117289444644, 'drift_status': False},\n",
       " 'bp_000': {'p_value': 0.9066586820995343, 'drift_status': False},\n",
       " 'bq_000': {'p_value': 0.8285910211173672, 'drift_status': False},\n",
       " 'br_000': {'p_value': 0.8051688793677477, 'drift_status': False},\n",
       " 'bs_000': {'p_value': 0.603841101009981, 'drift_status': False},\n",
       " 'bt_000': {'p_value': 0.035684482098359505, 'drift_status': True},\n",
       " 'bu_000': {'p_value': 0.0735244350439358, 'drift_status': False},\n",
       " 'bv_000': {'p_value': 0.0735244350439358, 'drift_status': False},\n",
       " 'bx_000': {'p_value': 0.041891690999073194, 'drift_status': True},\n",
       " 'by_000': {'p_value': 0.05738505309551245, 'drift_status': False},\n",
       " 'bz_000': {'p_value': 0.22104631039066047, 'drift_status': False},\n",
       " 'ca_000': {'p_value': 0.5119858813927756, 'drift_status': False},\n",
       " 'cb_000': {'p_value': 0.7101744715152895, 'drift_status': False},\n",
       " 'cc_000': {'p_value': 0.04982269822198493, 'drift_status': True},\n",
       " 'cd_000': {'p_value': 1.0, 'drift_status': False},\n",
       " 'ce_000': {'p_value': 0.03163987313879468, 'drift_status': True},\n",
       " 'cf_000': {'p_value': 0.7991557739862087, 'drift_status': False},\n",
       " 'cg_000': {'p_value': 0.0417605637954751, 'drift_status': True},\n",
       " 'ch_000': {'p_value': 1.0, 'drift_status': False},\n",
       " 'ci_000': {'p_value': 0.11455148880643418, 'drift_status': False},\n",
       " 'cj_000': {'p_value': 0.9979293413011473, 'drift_status': False},\n",
       " 'ck_000': {'p_value': 0.07541926396440835, 'drift_status': False},\n",
       " 'cl_000': {'p_value': 0.7826135915931413, 'drift_status': False},\n",
       " 'cm_000': {'p_value': 0.272690570654602, 'drift_status': False},\n",
       " 'cn_000': {'p_value': 0.9994233357376635, 'drift_status': False},\n",
       " 'cn_001': {'p_value': 0.6723934429069315, 'drift_status': False},\n",
       " 'cn_002': {'p_value': 0.03470846535373495, 'drift_status': True},\n",
       " 'cn_003': {'p_value': 0.07614072769595859, 'drift_status': False},\n",
       " 'cn_004': {'p_value': 0.05835546085616494, 'drift_status': False},\n",
       " 'cn_005': {'p_value': 0.13937417453711698, 'drift_status': False},\n",
       " 'cn_006': {'p_value': 0.11440400839941767, 'drift_status': False},\n",
       " 'cn_007': {'p_value': 0.11615073267986231, 'drift_status': False},\n",
       " 'cn_008': {'p_value': 0.09309338645670806, 'drift_status': False},\n",
       " 'cn_009': {'p_value': 0.12519479122645705, 'drift_status': False},\n",
       " 'co_000': {'p_value': 0.028333318398367502, 'drift_status': True},\n",
       " 'cp_000': {'p_value': 0.009576127367653897, 'drift_status': True},\n",
       " 'cq_000': {'p_value': 0.0735244350439358, 'drift_status': False},\n",
       " 'cr_000': {'p_value': 0.9526977316456519, 'drift_status': False},\n",
       " 'cs_000': {'p_value': 0.3325072561366751, 'drift_status': False},\n",
       " 'cs_001': {'p_value': 0.15156148930379532, 'drift_status': False},\n",
       " 'cs_002': {'p_value': 0.010056133357459909, 'drift_status': True},\n",
       " 'cs_003': {'p_value': 0.07556550768694537, 'drift_status': False},\n",
       " 'cs_004': {'p_value': 0.028847682253336338, 'drift_status': True},\n",
       " 'cs_005': {'p_value': 0.11722692713714289, 'drift_status': False},\n",
       " 'cs_006': {'p_value': 0.4953077248213368, 'drift_status': False},\n",
       " 'cs_007': {'p_value': 0.2951375107716677, 'drift_status': False},\n",
       " 'cs_008': {'p_value': 0.10026524279185178, 'drift_status': False},\n",
       " 'cs_009': {'p_value': 0.9999999996525049, 'drift_status': False},\n",
       " 'ct_000': {'p_value': 0.17396422292492209, 'drift_status': False},\n",
       " 'cu_000': {'p_value': 0.22083368877289733, 'drift_status': False},\n",
       " 'cv_000': {'p_value': 0.19332922237449712, 'drift_status': False},\n",
       " 'cx_000': {'p_value': 0.32622756615294213, 'drift_status': False},\n",
       " 'cy_000': {'p_value': 0.9999706197074036, 'drift_status': False},\n",
       " 'cz_000': {'p_value': 0.20037206147924214, 'drift_status': False},\n",
       " 'da_000': {'p_value': 1.0, 'drift_status': False},\n",
       " 'db_000': {'p_value': 0.23923607441257755, 'drift_status': False},\n",
       " 'dc_000': {'p_value': 0.11852916298013949, 'drift_status': False},\n",
       " 'dd_000': {'p_value': 0.0897173537117153, 'drift_status': False},\n",
       " 'de_000': {'p_value': 0.3975642641178585, 'drift_status': False},\n",
       " 'df_000': {'p_value': 1.0, 'drift_status': False},\n",
       " 'dg_000': {'p_value': 0.9999999999978164, 'drift_status': False},\n",
       " 'dh_000': {'p_value': 0.9999996702702585, 'drift_status': False},\n",
       " 'di_000': {'p_value': 0.9772316583718859, 'drift_status': False},\n",
       " 'dj_000': {'p_value': 1.0, 'drift_status': False},\n",
       " 'dk_000': {'p_value': 1.0, 'drift_status': False},\n",
       " 'dl_000': {'p_value': 1.0, 'drift_status': False},\n",
       " 'dm_000': {'p_value': 1.0, 'drift_status': False},\n",
       " 'dn_000': {'p_value': 0.09579421748025152, 'drift_status': False},\n",
       " 'do_000': {'p_value': 0.15746718035351837, 'drift_status': False},\n",
       " 'dp_000': {'p_value': 0.12044133899889131, 'drift_status': False},\n",
       " 'dq_000': {'p_value': 0.7501830619967835, 'drift_status': False},\n",
       " 'dr_000': {'p_value': 0.8280874074153938, 'drift_status': False},\n",
       " 'ds_000': {'p_value': 0.051320189558791585, 'drift_status': False},\n",
       " 'dt_000': {'p_value': 0.09579456041413892, 'drift_status': False},\n",
       " 'du_000': {'p_value': 0.3558809475802409, 'drift_status': False},\n",
       " 'dv_000': {'p_value': 0.2920505407225801, 'drift_status': False},\n",
       " 'dx_000': {'p_value': 0.25377067118046703, 'drift_status': False},\n",
       " 'dy_000': {'p_value': 0.4502182152657558, 'drift_status': False},\n",
       " 'dz_000': {'p_value': 0.999999999983297, 'drift_status': False},\n",
       " 'ea_000': {'p_value': 0.9999999999914979, 'drift_status': False},\n",
       " 'eb_000': {'p_value': 0.9436600560199399, 'drift_status': False},\n",
       " 'ec_00': {'p_value': 0.2709084410491124, 'drift_status': False},\n",
       " 'ed_000': {'p_value': 0.08603250117406103, 'drift_status': False},\n",
       " 'ee_000': {'p_value': 0.05572662105901216, 'drift_status': False},\n",
       " 'ee_001': {'p_value': 0.12649220946543582, 'drift_status': False},\n",
       " 'ee_002': {'p_value': 0.14810026891473893, 'drift_status': False},\n",
       " 'ee_003': {'p_value': 0.1233992321416777, 'drift_status': False},\n",
       " 'ee_004': {'p_value': 0.07154479522330481, 'drift_status': False},\n",
       " 'ee_005': {'p_value': 0.1158067871358558, 'drift_status': False},\n",
       " 'ee_006': {'p_value': 0.1396872155249086, 'drift_status': False},\n",
       " 'ee_007': {'p_value': 0.0034458034175675594, 'drift_status': True},\n",
       " 'ee_008': {'p_value': 0.12420762714194944, 'drift_status': False},\n",
       " 'ee_009': {'p_value': 0.422410467970173, 'drift_status': False},\n",
       " 'ef_000': {'p_value': 0.9999999999979634, 'drift_status': False},\n",
       " 'eg_000': {'p_value': 0.999999681059841, 'drift_status': False}}"
      ]
     },
     "execution_count": 45,
     "metadata": {},
     "output_type": "execute_result"
    }
   ],
   "source": [
    "drift_report"
   ]
  },
  {
   "cell_type": "code",
   "execution_count": 46,
   "metadata": {},
   "outputs": [],
   "source": [
    "write_yaml_file(file_path=os.path.join(os.getcwd(),\"report.yaml\"),content=drift_report,replace=True)"
   ]
  },
  {
   "cell_type": "code",
   "execution_count": 47,
   "metadata": {},
   "outputs": [
    {
     "data": {
      "text/plain": [
       "KstestResult(statistic=0.0017289292121173139, pvalue=1.0)"
      ]
     },
     "execution_count": 47,
     "metadata": {},
     "output_type": "execute_result"
    }
   ],
   "source": [
    "d1 = train_df['class']\n",
    "d2  = test_df['class']\n",
    "ks_2samp(d1,d2)"
   ]
  },
  {
   "cell_type": "code",
   "execution_count": 41,
   "metadata": {},
   "outputs": [
    {
     "data": {
      "text/plain": [
       "KstestResult(statistic=0.009896540089462558, pvalue=0.6183763526162667)"
      ]
     },
     "execution_count": 41,
     "metadata": {},
     "output_type": "execute_result"
    }
   ],
   "source": []
  },
  {
   "cell_type": "code",
   "execution_count": 1,
   "metadata": {},
   "outputs": [],
   "source": [
    "from sensor.ml.model.estimator import TargetValueMapping"
   ]
  },
  {
   "cell_type": "code",
   "execution_count": 4,
   "metadata": {},
   "outputs": [
    {
     "data": {
      "text/plain": [
       "{'neg': 0, 'pos': 1}"
      ]
     },
     "execution_count": 4,
     "metadata": {},
     "output_type": "execute_result"
    }
   ],
   "source": [
    ".to_dict()TargetValueMapping()"
   ]
  },
  {
   "cell_type": "code",
   "execution_count": 5,
   "metadata": {},
   "outputs": [
    {
     "data": {
      "text/plain": [
       "{0: 'neg', 1: 'pos'}"
      ]
     },
     "execution_count": 5,
     "metadata": {},
     "output_type": "execute_result"
    }
   ],
   "source": [
    "TargetValueMapping().reverse_mapping()"
   ]
  },
  {
   "cell_type": "code",
   "execution_count": null,
   "metadata": {},
   "outputs": [],
   "source": []
  }
 ],
 "metadata": {
  "kernelspec": {
   "display_name": "Python 3.7.15 (conda)",
   "language": "python",
   "name": "python3"
  },
  "language_info": {
   "codemirror_mode": {
    "name": "ipython",
    "version": 3
   },
   "file_extension": ".py",
   "mimetype": "text/x-python",
   "name": "python",
   "nbconvert_exporter": "python",
   "pygments_lexer": "ipython3",
   "version": "3.7.15"
  },
  "orig_nbformat": 4,
  "vscode": {
   "interpreter": {
    "hash": "c7e985af73fa46043ab616e9bb8dbccba590894d0a8ff332a54f80c3799c523d"
   }
  }
 },
 "nbformat": 4,
 "nbformat_minor": 2
}
